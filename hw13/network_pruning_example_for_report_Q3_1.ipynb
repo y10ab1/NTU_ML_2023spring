{
  "cells": [
    {
      "cell_type": "code",
      "execution_count": 4,
      "metadata": {
        "id": "zsoHYOemsdtN"
      },
      "outputs": [
        {
          "name": "stderr",
          "output_type": "stream",
          "text": [
            "/home/yuehpo/miniconda3/envs/hw13/lib/python3.11/site-packages/tqdm/auto.py:21: TqdmWarning: IProgress not found. Please update jupyter and ipywidgets. See https://ipywidgets.readthedocs.io/en/stable/user_install.html\n",
            "  from .autonotebook import tqdm as notebook_tqdm\n"
          ]
        }
      ],
      "source": [
        "import torch\n",
        "from torch import nn\n",
        "import torch.nn.utils.prune as prune\n",
        "import torch.nn.functional as F\n",
        "\n",
        "# Import some useful packages for this homework\n",
        "import numpy as np\n",
        "import pandas as pd\n",
        "import os\n",
        "import torchvision.transforms as transforms\n",
        "from PIL import Image\n",
        "from torch.utils.data import ConcatDataset, DataLoader, Subset, Dataset # \"ConcatDataset\" and \"Subset\" are possibly useful\n",
        "from torchvision.datasets import DatasetFolder, VisionDataset\n",
        "from torchsummary import summary\n",
        "from tqdm.auto import tqdm\n",
        "import random\n",
        "\n",
        "# !nvidia-smi # list your current GPU"
      ]
    },
    {
      "cell_type": "code",
      "execution_count": 5,
      "metadata": {
        "id": "N8TeFwlNsYie"
      },
      "outputs": [],
      "source": [
        "device = torch.device(\"cuda\" if torch.cuda.is_available() else \"cpu\")\n",
        "\n",
        "class LeNet(nn.Module):\n",
        "    def __init__(self):\n",
        "        super(LeNet, self).__init__()\n",
        "        # 1 input image channel, 6 output channels, 3x3 square conv kernel\n",
        "        self.conv1 = nn.Conv2d(1, 6, 3)\n",
        "        self.conv2 = nn.Conv2d(6, 16, 3)\n",
        "        self.fc1 = nn.Linear(16 * 5 * 5, 120)  # 5x5 image dimension\n",
        "        self.fc2 = nn.Linear(120, 84)\n",
        "        self.fc3 = nn.Linear(84, 10)\n",
        "\n",
        "    def forward(self, x):\n",
        "        x = F.max_pool2d(F.relu(self.conv1(x)), (2, 2))\n",
        "        x = F.max_pool2d(F.relu(self.conv2(x)), 2)\n",
        "        x = x.view(-1, int(x.nelement() / x.shape[0]))\n",
        "        x = F.relu(self.fc1(x))\n",
        "        x = F.relu(self.fc2(x))\n",
        "        x = self.fc3(x)\n",
        "        return x\n",
        "\n",
        "model = LeNet().to(device=device)"
      ]
    },
    {
      "attachments": {},
      "cell_type": "markdown",
      "metadata": {
        "id": "kWEnrhWatOQb"
      },
      "source": [
        "Let's say now you want to prune all the parameters named with `weight` in all the `nn.Conv2d` layers in the `model`, with pruning ratio **0.2**. Then please refer to the code below to achieve this."
      ]
    },
    {
      "cell_type": "code",
      "execution_count": 6,
      "metadata": {
        "id": "qecxBl1Lsm0r"
      },
      "outputs": [],
      "source": [
        "ratio = 0.2 # specify the pruning ratio\n",
        "for name, module in model.named_modules():\n",
        "    if isinstance(module, torch.nn.Conv2d): # if the nn.module is torch.nn.Conv2d\n",
        "        prune.l1_unstructured(module, name='weight', amount=ratio) # use 'prune' method provided by 'torch.nn.utils.prune' to prune the weight parameters in the nn.Conv2d layers\n",
        "# Next, you just have to generize the above code to different ratio and test the accuracy on the validation set of food11-hw13."
      ]
    },
    {
      "cell_type": "code",
      "execution_count": 35,
      "metadata": {},
      "outputs": [],
      "source": [
        "cfg = {\n",
        "    'dataset_root': './Food-11',\n",
        "    'save_dir': './outputs',\n",
        "    'exp_name': \"medium_baseline\",\n",
        "    'batch_size': 2048,\n",
        "    'lr': 3e-4,\n",
        "    'seed': 20220013,\n",
        "    'loss_fn_type': 'KD', # simple baseline: CE, medium baseline: KD. See the Knowledge_Distillation part for more information.\n",
        "    'weight_decay': 1e-5,\n",
        "    'grad_norm_max': 10,\n",
        "    'n_epochs': 600, # train more steps to pass the medium baseline.\n",
        "    'patience': 300,\n",
        "}"
      ]
    },
    {
      "cell_type": "code",
      "execution_count": 36,
      "metadata": {},
      "outputs": [],
      "source": [
        "normalize = transforms.Normalize(mean=[0.485, 0.456, 0.406], std=[0.229, 0.224, 0.225])\n",
        "# define training/testing transforms\n",
        "test_tfm = transforms.Compose([\n",
        "    # It is not encouraged to modify this part if you are using the provided teacher model. This transform is stardard and good enough for testing.\n",
        "    transforms.Resize(256),\n",
        "    transforms.CenterCrop(224),\n",
        "    transforms.ToTensor(),\n",
        "    normalize,\n",
        "])\n",
        "\n",
        "train_tfm = transforms.Compose([\n",
        "    # add some useful transform or augmentation here, according to your experience in HW3.\n",
        "    transforms.Resize(256),  # You can change this\n",
        "    transforms.CenterCrop(224), # You can change this, but be aware of that the given teacher model's input size is 224.\n",
        "    # The training input size of the provided teacher model is (3, 224, 224).\n",
        "    # Thus, Input size other then 224 might hurt the performance. please be careful.\n",
        "    \n",
        "    transforms.RandomRotation(15),\n",
        "    transforms.RandomHorizontalFlip(),\n",
        "    transforms.RandomVerticalFlip(),\n",
        "    transforms.ColorJitter(brightness=0.5, contrast=0.5, saturation=0.5, hue=0.5),\n",
        "\n",
        "    transforms.ToTensor(),\n",
        "    normalize,\n",
        "])"
      ]
    },
    {
      "cell_type": "code",
      "execution_count": 37,
      "metadata": {},
      "outputs": [],
      "source": [
        "class FoodDataset(Dataset):\n",
        "    def __init__(self, path, tfm=test_tfm, files = None):\n",
        "        super().__init__()\n",
        "        self.path = path\n",
        "        self.files = sorted([os.path.join(path,x) for x in os.listdir(path) if x.endswith(\".jpg\")])\n",
        "        if files != None:\n",
        "            self.files = files\n",
        "        print(f\"One {path} sample\",self.files[0])\n",
        "        self.transform = tfm\n",
        "\n",
        "    def __len__(self):\n",
        "        return len(self.files)\n",
        "\n",
        "    def __getitem__(self,idx):\n",
        "        fname = self.files[idx]\n",
        "        im = Image.open(fname)\n",
        "        im = self.transform(im)\n",
        "        try:\n",
        "            label = int(fname.split(\"/\")[-1].split(\"_\")[0])\n",
        "        except:\n",
        "            label = -1 # test has no label\n",
        "        return im,label"
      ]
    },
    {
      "cell_type": "code",
      "execution_count": 38,
      "metadata": {},
      "outputs": [
        {
          "name": "stdout",
          "output_type": "stream",
          "text": [
            "One ./Food-11/validation sample ./Food-11/validation/0_0.jpg\n"
          ]
        }
      ],
      "source": [
        "# create dataloader for evaluation\n",
        "eval_set = FoodDataset(os.path.join(cfg['dataset_root'], \"validation\"), tfm=test_tfm)\n",
        "eval_loader = DataLoader(eval_set, batch_size=cfg['batch_size'], shuffle=False, num_workers=0, pin_memory=True)"
      ]
    },
    {
      "cell_type": "code",
      "execution_count": 39,
      "metadata": {},
      "outputs": [
        {
          "name": "stderr",
          "output_type": "stream",
          "text": [
            "Using cache found in /home/yuehpo/.cache/torch/hub/pytorch_vision_v0.10.0\n",
            "/home/yuehpo/miniconda3/envs/hw13/lib/python3.11/site-packages/torchvision/models/_utils.py:208: UserWarning: The parameter 'pretrained' is deprecated since 0.13 and may be removed in the future, please use 'weights' instead.\n",
            "  warnings.warn(\n",
            "/home/yuehpo/miniconda3/envs/hw13/lib/python3.11/site-packages/torchvision/models/_utils.py:223: UserWarning: Arguments other than a weight enum or `None` for 'weights' are deprecated since 0.13 and may be removed in the future. The current behavior is equivalent to passing `weights=None`.\n",
            "  warnings.warn(msg)\n"
          ]
        },
        {
          "data": {
            "text/plain": [
              "<All keys matched successfully>"
            ]
          },
          "execution_count": 39,
          "metadata": {},
          "output_type": "execute_result"
        }
      ],
      "source": [
        "# Load provided teacher model (model architecture: resnet18, num_classes=11, test-acc ~= 89.9%)\n",
        "teacher_model_ori = torch.hub.load('pytorch/vision:v0.10.0', 'resnet18', pretrained=False, num_classes=11)\n",
        "# load state dict\n",
        "teacher_ckpt_path = os.path.join(cfg['dataset_root'], \"resnet18_teacher.ckpt\")\n",
        "teacher_model_ori.load_state_dict(torch.load(teacher_ckpt_path, map_location='cpu'))"
      ]
    },
    {
      "cell_type": "code",
      "execution_count": 41,
      "metadata": {},
      "outputs": [
        {
          "name": "stdout",
          "output_type": "stream",
          "text": [
            "Pruning ratio: 0.0\n"
          ]
        },
        {
          "name": "stderr",
          "output_type": "stream",
          "text": [
            "100%|██████████| 3/3 [00:11<00:00,  3.84s/it]\n"
          ]
        },
        {
          "name": "stdout",
          "output_type": "stream",
          "text": [
            "Pruning ratio: 0.0, Accuracy: 0.9501353790613718\n",
            "Pruning ratio: 0.05\n"
          ]
        },
        {
          "name": "stderr",
          "output_type": "stream",
          "text": [
            "100%|██████████| 3/3 [00:11<00:00,  3.87s/it]\n"
          ]
        },
        {
          "name": "stdout",
          "output_type": "stream",
          "text": [
            "Pruning ratio: 0.05, Accuracy: 0.9492328519855595\n",
            "Pruning ratio: 0.1\n"
          ]
        },
        {
          "name": "stderr",
          "output_type": "stream",
          "text": [
            "100%|██████████| 3/3 [00:11<00:00,  3.86s/it]\n"
          ]
        },
        {
          "name": "stdout",
          "output_type": "stream",
          "text": [
            "Pruning ratio: 0.1, Accuracy: 0.9490072202166066\n",
            "Pruning ratio: 0.15000000000000002\n"
          ]
        },
        {
          "name": "stderr",
          "output_type": "stream",
          "text": [
            "100%|██████████| 3/3 [00:11<00:00,  3.88s/it]\n"
          ]
        },
        {
          "name": "stdout",
          "output_type": "stream",
          "text": [
            "Pruning ratio: 0.15000000000000002, Accuracy: 0.9490072202166066\n",
            "Pruning ratio: 0.2\n"
          ]
        },
        {
          "name": "stderr",
          "output_type": "stream",
          "text": [
            "100%|██████████| 3/3 [00:12<00:00,  4.24s/it]\n"
          ]
        },
        {
          "name": "stdout",
          "output_type": "stream",
          "text": [
            "Pruning ratio: 0.2, Accuracy: 0.9447202166064982\n",
            "Pruning ratio: 0.25\n"
          ]
        },
        {
          "name": "stderr",
          "output_type": "stream",
          "text": [
            "100%|██████████| 3/3 [00:12<00:00,  4.06s/it]\n"
          ]
        },
        {
          "name": "stdout",
          "output_type": "stream",
          "text": [
            "Pruning ratio: 0.25, Accuracy: 0.9447202166064982\n",
            "Pruning ratio: 0.30000000000000004\n"
          ]
        },
        {
          "name": "stderr",
          "output_type": "stream",
          "text": [
            "100%|██████████| 3/3 [00:12<00:00,  4.07s/it]\n"
          ]
        },
        {
          "name": "stdout",
          "output_type": "stream",
          "text": [
            "Pruning ratio: 0.30000000000000004, Accuracy: 0.9273465703971119\n",
            "Pruning ratio: 0.35000000000000003\n"
          ]
        },
        {
          "name": "stderr",
          "output_type": "stream",
          "text": [
            "100%|██████████| 3/3 [00:12<00:00,  4.09s/it]\n"
          ]
        },
        {
          "name": "stdout",
          "output_type": "stream",
          "text": [
            "Pruning ratio: 0.35000000000000003, Accuracy: 0.9050090252707581\n",
            "Pruning ratio: 0.4\n"
          ]
        },
        {
          "name": "stderr",
          "output_type": "stream",
          "text": [
            "100%|██████████| 3/3 [00:12<00:00,  4.07s/it]\n"
          ]
        },
        {
          "name": "stdout",
          "output_type": "stream",
          "text": [
            "Pruning ratio: 0.4, Accuracy: 0.8856046931407943\n",
            "Pruning ratio: 0.45\n"
          ]
        },
        {
          "name": "stderr",
          "output_type": "stream",
          "text": [
            "100%|██████████| 3/3 [00:12<00:00,  4.08s/it]\n"
          ]
        },
        {
          "name": "stdout",
          "output_type": "stream",
          "text": [
            "Pruning ratio: 0.45, Accuracy: 0.7818140794223827\n",
            "Pruning ratio: 0.5\n"
          ]
        },
        {
          "name": "stderr",
          "output_type": "stream",
          "text": [
            "100%|██████████| 3/3 [00:12<00:00,  4.07s/it]\n"
          ]
        },
        {
          "name": "stdout",
          "output_type": "stream",
          "text": [
            "Pruning ratio: 0.5, Accuracy: 0.5834837545126353\n",
            "Pruning ratio: 0.55\n"
          ]
        },
        {
          "name": "stderr",
          "output_type": "stream",
          "text": [
            "100%|██████████| 3/3 [00:12<00:00,  4.08s/it]\n"
          ]
        },
        {
          "name": "stdout",
          "output_type": "stream",
          "text": [
            "Pruning ratio: 0.55, Accuracy: 0.3267148014440433\n",
            "Pruning ratio: 0.6000000000000001\n"
          ]
        },
        {
          "name": "stderr",
          "output_type": "stream",
          "text": [
            "100%|██████████| 3/3 [00:12<00:00,  4.08s/it]\n"
          ]
        },
        {
          "name": "stdout",
          "output_type": "stream",
          "text": [
            "Pruning ratio: 0.6000000000000001, Accuracy: 0.1592960288808664\n",
            "Pruning ratio: 0.65\n"
          ]
        },
        {
          "name": "stderr",
          "output_type": "stream",
          "text": [
            "100%|██████████| 3/3 [00:12<00:00,  4.10s/it]\n"
          ]
        },
        {
          "name": "stdout",
          "output_type": "stream",
          "text": [
            "Pruning ratio: 0.65, Accuracy: 0.11010830324909747\n",
            "Pruning ratio: 0.7000000000000001\n"
          ]
        },
        {
          "name": "stderr",
          "output_type": "stream",
          "text": [
            "100%|██████████| 3/3 [00:12<00:00,  4.12s/it]\n"
          ]
        },
        {
          "name": "stdout",
          "output_type": "stream",
          "text": [
            "Pruning ratio: 0.7000000000000001, Accuracy: 0.1177797833935018\n",
            "Pruning ratio: 0.75\n"
          ]
        },
        {
          "name": "stderr",
          "output_type": "stream",
          "text": [
            "100%|██████████| 3/3 [00:12<00:00,  4.09s/it]\n"
          ]
        },
        {
          "name": "stdout",
          "output_type": "stream",
          "text": [
            "Pruning ratio: 0.75, Accuracy: 0.10424187725631769\n",
            "Pruning ratio: 0.8\n"
          ]
        },
        {
          "name": "stderr",
          "output_type": "stream",
          "text": [
            "100%|██████████| 3/3 [00:13<00:00,  4.34s/it]\n"
          ]
        },
        {
          "name": "stdout",
          "output_type": "stream",
          "text": [
            "Pruning ratio: 0.8, Accuracy: 0.10717509025270758\n",
            "Pruning ratio: 0.8500000000000001\n"
          ]
        },
        {
          "name": "stderr",
          "output_type": "stream",
          "text": [
            "100%|██████████| 3/3 [00:12<00:00,  4.10s/it]\n"
          ]
        },
        {
          "name": "stdout",
          "output_type": "stream",
          "text": [
            "Pruning ratio: 0.8500000000000001, Accuracy: 0.10356498194945848\n",
            "Pruning ratio: 0.9\n"
          ]
        },
        {
          "name": "stderr",
          "output_type": "stream",
          "text": [
            "100%|██████████| 3/3 [00:12<00:00,  4.08s/it]\n"
          ]
        },
        {
          "name": "stdout",
          "output_type": "stream",
          "text": [
            "Pruning ratio: 0.9, Accuracy: 0.09318592057761733\n",
            "Pruning ratio: 0.9500000000000001\n"
          ]
        },
        {
          "name": "stderr",
          "output_type": "stream",
          "text": [
            "100%|██████████| 3/3 [00:12<00:00,  4.10s/it]"
          ]
        },
        {
          "name": "stdout",
          "output_type": "stream",
          "text": [
            "Pruning ratio: 0.9500000000000001, Accuracy: 0.0904783393501805\n"
          ]
        },
        {
          "name": "stderr",
          "output_type": "stream",
          "text": [
            "\n"
          ]
        },
        {
          "data": {
            "image/png": "[encoded data removed]",
            "text/plain": [
              "<Figure size 640x480 with 1 Axes>"
            ]
          },
          "metadata": {},
          "output_type": "display_data"
        }
      ],
      "source": [
        "# prune the teacher model for different ratio: 0 to 1 with step size 0.05\n",
        "# and evaluate the accuracy on the validation set of food11-hw13\n",
        "# plot the model accuracy and the pruning ratio with matplotlib\n",
        "\n",
        "import matplotlib.pyplot as plt\n",
        "import copy\n",
        "dots = []\n",
        "for ratio in np.arange(0,1,0.05):\n",
        "    print(f\"Pruning ratio: {ratio}\")\n",
        "    \n",
        "    # copy the teacher model from teacher_model_ori\n",
        "    teacher_model = copy.deepcopy(teacher_model_ori)\n",
        "    \n",
        "    for name, module in teacher_model.named_modules():\n",
        "        if isinstance(module, torch.nn.Conv2d): # if the nn.module is torch.nn.Conv2d\n",
        "            prune.l1_unstructured(module, name='weight', amount=ratio) # use 'prune' method provided by 'torch.nn.utils.prune' to prune the weight parameters in the nn.Conv2d layers\n",
        "    teacher_model.eval()\n",
        "    teacher_model.to(device=device)\n",
        "    correct = 0\n",
        "    total = 0\n",
        "    with torch.no_grad():\n",
        "        for x, y_gt in tqdm(eval_loader):\n",
        "            x = x.to(device=device)\n",
        "            y_gt = y_gt.to(device=device)\n",
        "            y_pred = teacher_model(x)\n",
        "            y_pred = torch.argmax(y_pred, dim=1)\n",
        "            correct += (y_pred == y_gt).sum().item()\n",
        "            total += len(y_gt)\n",
        "    acc = correct / total\n",
        "    print(f\"Pruning ratio: {ratio}, Accuracy: {acc}\")\n",
        "    plt.scatter(ratio, acc, c='b', marker='o', label='teacher model')\n",
        "    dots.append((ratio, acc))\n",
        "\n",
        "# connect the scatter points with line\n",
        "plt.plot([x[0] for x in dots], [x[1] for x in dots], c='b', label='teacher model')\n",
        "\n",
        "plt.title(\"Pruning ratio vs. model accuracy\")\n",
        "\n",
        "\n",
        "# plot the grid with equally spaced ticks\n",
        "plt.grid(True)\n",
        "plt.xticks(np.arange(0, 1.05, 0.05))\n",
        "plt.yticks(np.arange(0, 1.1, 0.1))\n",
        "\n",
        "# lean the x ticks labels 45 degrees\n",
        "plt.xticks(rotation=45)\n",
        "\n",
        "plt.xlabel(\"Pruning ratio\")\n",
        "plt.ylabel(\"Model accuracy\")\n",
        "plt.tight_layout()\n",
        "plt.savefig(\"pruning_ratio_vs_model_accuracy.png\")\n",
        "    "
      ]
    }
  ],
  "metadata": {
    "colab": {
      "provenance": []
    },
    "kernelspec": {
      "display_name": "Python 3",
      "name": "python3"
    },
    "language_info": {
      "codemirror_mode": {
        "name": "ipython",
        "version": 3
      },
      "file_extension": ".py",
      "mimetype": "text/x-python",
      "name": "python",
      "nbconvert_exporter": "python",
      "pygments_lexer": "ipython3",
      "version": "3.11.3"
    }
  },
  "nbformat": 4,
  "nbformat_minor": 0
}
