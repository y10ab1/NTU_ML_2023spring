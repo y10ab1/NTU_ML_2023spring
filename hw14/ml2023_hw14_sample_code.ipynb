{
  "cells": [
    {
      "attachments": {},
      "cell_type": "markdown",
      "metadata": {
        "id": "AsmmE9T_WFbD"
      },
      "source": [
        "\n",
        "\n",
        "### LifeLong Machine Learning\n",
        "### TA's Slide\n",
        "[Slide](https://docs.google.com/presentation/d/1SMJLWPTPCIrZdNdAjrS4zQZx1kfB73jCFSb7JRX90gQ/edit?usp=sharing)\n",
        "\n",
        "### Definition\n",
        "The detailed explanations and definitions of LifeLong Learning please refer to [LifeLong learning](https://youtu.be/7qT5P9KJnWo)\n",
        "\n",
        "\n",
        "### Methods\n",
        "Someone proposed a survey paper for LifeLong Learning at the end of 2019 to distinguish 2016-2019 LigeLong Learning methods into three families.\n",
        "\n",
        "We can distinguish LifeLong Learning methods into three families, based on how task\n",
        "specific information is stored and used throughout the sequential learning process:\n",
        "* Replay-based methods\n",
        "* Regularization-based methods\n",
        "* Parameter isolation methods\n",
        "\n",
        "<img src=\"https://i.ibb.co/VDFJkWG/2019-12-29-17-25.png\" width=\"100%\">\n",
        "\n",
        "In this assignment, we have to go through EWC, MAS, SI, Remanian Walk, SCP Methods in the prior-focused methods of the regularization-based methods.\n",
        "\n",
        "Source: [Continual Learning in Neural\n",
        "Networks](https://arxiv.org/pdf/1910.02718.pdf)\n",
        "\n",
        "Please feel free to mail us if you have any questions.\n",
        "\n",
        "mlta-2023-spring@googlegroups.com\n"
      ]
    },
    {
      "attachments": {},
      "cell_type": "markdown",
      "metadata": {
        "id": "BK862tXGWFbE"
      },
      "source": [
        "# Utilities"
      ]
    },
    {
      "attachments": {},
      "cell_type": "markdown",
      "metadata": {
        "id": "Q3qCa3AyWFbE"
      },
      "source": [
        "### Import Libraries"
      ]
    },
    {
      "cell_type": "code",
      "execution_count": 1,
      "metadata": {
        "id": "R2TZ4-_yWFbF"
      },
      "outputs": [],
      "source": [
        "import argparse\n",
        "import matplotlib.pyplot as plt\n",
        "import numpy as np\n",
        "import os\n",
        "import torch\n",
        "import torch.utils.data as data\n",
        "from torch.utils.data import DataLoader\n",
        "import torch.utils.data.sampler as sampler\n",
        "import torch.nn as nn\n",
        "import torch.nn.functional as F\n",
        "import torchvision\n",
        "from torchvision import datasets, transforms\n",
        "import tqdm\n",
        "from tqdm import trange"
      ]
    },
    {
      "attachments": {},
      "cell_type": "markdown",
      "metadata": {
        "id": "gg3_4IbVWFbF"
      },
      "source": [
        "### Check devices"
      ]
    },
    {
      "cell_type": "code",
      "execution_count": 2,
      "metadata": {
        "colab": {
          "base_uri": "https://localhost:8080/"
        },
        "id": "OivaUp0oWFbF",
        "outputId": "b973189c-5bba-4725-84cb-53a4cba40859"
      },
      "outputs": [
        {
          "name": "stdout",
          "output_type": "stream",
          "text": [
            "Fri Jun 30 22:35:25 2023       \n",
            "+-----------------------------------------------------------------------------+\n",
            "| NVIDIA-SMI 525.105.17   Driver Version: 525.105.17   CUDA Version: 12.0     |\n",
            "|-------------------------------+----------------------+----------------------+\n",
            "| GPU  Name        Persistence-M| Bus-Id        Disp.A | Volatile Uncorr. ECC |\n",
            "| Fan  Temp  Perf  Pwr:Usage/Cap|         Memory-Usage | GPU-Util  Compute M. |\n",
            "|                               |                      |               MIG M. |\n",
            "|===============================+======================+======================|\n",
            "|   0  NVIDIA GeForce ...  Off  | 00000000:01:00.0 Off |                  Off |\n",
            "| 60%   48C    P8    25W / 450W |      6MiB / 24564MiB |      0%      Default |\n",
            "|                               |                      |                  N/A |\n",
            "+-------------------------------+----------------------+----------------------+\n",
            "                                                                               \n",
            "+-----------------------------------------------------------------------------+\n",
            "| Processes:                                                                  |\n",
            "|  GPU   GI   CI        PID   Type   Process name                  GPU Memory |\n",
            "|        ID   ID                                                   Usage      |\n",
            "|=============================================================================|\n",
            "|    0   N/A  N/A    940039      G   /usr/lib/xorg/Xorg                  4MiB |\n",
            "+-----------------------------------------------------------------------------+\n"
          ]
        }
      ],
      "source": [
        "!nvidia-smi"
      ]
    },
    {
      "attachments": {},
      "cell_type": "markdown",
      "metadata": {
        "id": "yUJ74uBEWFbG"
      },
      "source": [
        "### Fix Random Seeds"
      ]
    },
    {
      "cell_type": "code",
      "execution_count": 3,
      "metadata": {
        "id": "wD5LIZarWFbG"
      },
      "outputs": [],
      "source": [
        "def same_seeds(seed):\n",
        "  torch.manual_seed(seed)\n",
        "  if torch.cuda.is_available():\n",
        "    torch.cuda.manual_seed(seed)\n",
        "    torch.cuda.manual_seed_all(seed)\n",
        "  np.random.seed(seed)\n",
        "  torch.backends.cudnn.benchmark = False\n",
        "  torch.backends.cudnn.deterministic = True\n",
        "\n",
        "same_seeds(0)"
      ]
    },
    {
      "attachments": {},
      "cell_type": "markdown",
      "metadata": {
        "id": "jF1t8-4kWFbG"
      },
      "source": [
        "# Prepare Data\n",
        "We utilize rotated MNIST as our training dataset.\n",
        "\n",
        "So, first, we utilize 5 different rotations to generate 10 different rotated MNISTs as different tasks."
      ]
    },
    {
      "attachments": {},
      "cell_type": "markdown",
      "metadata": {
        "id": "RQUE7ZCEWFbG"
      },
      "source": [
        "### Rotation and Transformation"
      ]
    },
    {
      "cell_type": "code",
      "execution_count": 4,
      "metadata": {
        "id": "YuG2jkeEWFbG"
      },
      "outputs": [],
      "source": [
        "# Rotate MNIST to generate 10 tasks\n",
        "\n",
        "def _rotate_image(image, angle):\n",
        "  if angle is None:\n",
        "    return image\n",
        "\n",
        "  image = transforms.functional.rotate(image, angle=angle)\n",
        "  return image\n",
        "\n",
        "def get_transform(angle=None):\n",
        "  transform = transforms.Compose([transforms.ToTensor(),\n",
        "                   transforms.Lambda(lambda x: _rotate_image(x, angle)),\n",
        "                   Pad(28)\n",
        "                   ])\n",
        "  return transform\n",
        "\n",
        "class Pad(object):\n",
        "  def __init__(self, size, fill=0, padding_mode='constant'):\n",
        "    self.size = size\n",
        "    self.fill = fill\n",
        "    self.padding_mode = padding_mode\n",
        "\n",
        "  def __call__(self, img):\n",
        "    # If the H and W of img is not equal to desired size,\n",
        "    # then pad the channel of img to desired size.\n",
        "    img_size = img.size()[1]\n",
        "    assert ((self.size - img_size) % 2 == 0)\n",
        "    padding = (self.size - img_size) // 2\n",
        "    padding = (padding, padding, padding, padding)\n",
        "    return F.pad(img, padding, self.padding_mode, self.fill)\n",
        "\n",
        "class Data():\n",
        "  def __init__(self, path, train=True, angle=None):\n",
        "    transform = get_transform(angle)\n",
        "    self.dataset = datasets.MNIST(root=os.path.join(path, \"MNIST\"), transform=transform, train=train, download=True)"
      ]
    },
    {
      "attachments": {},
      "cell_type": "markdown",
      "metadata": {
        "id": "KG8GcENLWFbH"
      },
      "source": [
        "### Dataloaders and Arguments\n",
        "- Training Arguments\n",
        "- Setup 5 different Rotations\n",
        "- 5 Train DataLoader\n",
        "- 5 Test DataLoader"
      ]
    },
    {
      "cell_type": "code",
      "execution_count": 5,
      "metadata": {
        "colab": {
          "base_uri": "https://localhost:8080/"
        },
        "id": "jDo1m4EIWFbH",
        "outputId": "a93394c3-f62d-4f9c-8824-f7546f1d956a"
      },
      "outputs": [],
      "source": [
        "class Args:\n",
        "  task_number = 5\n",
        "  epochs_per_task = 10\n",
        "  lr = 1.0e-4\n",
        "  batch_size = 128\n",
        "  test_size=8192\n",
        "\n",
        "args=Args()\n",
        "\n",
        "device = torch.device(\"cuda\" if torch.cuda.is_available() else \"cpu\")\n",
        "# generate rotations for the tasks.\n",
        "\n",
        "# generate rotated MNIST data from 10 different rotations.\n",
        "\n",
        "angle_list = [20 * x for x in range(args.task_number)]\n",
        "\n",
        "# prepare rotated MNIST datasets.\n",
        "\n",
        "train_datasets = [Data('data', angle=angle_list[index]) for index in range(args.task_number)]\n",
        "train_dataloaders = [DataLoader(data.dataset, batch_size=args.batch_size, shuffle=True) for data in train_datasets]\n",
        "\n",
        "test_datasets = [Data('data', train=False, angle=angle_list[index]) for index in range(args.task_number)]\n",
        "test_dataloaders = [DataLoader(data.dataset, batch_size=args.test_size, shuffle=True) for data in test_datasets]"
      ]
    },
    {
      "attachments": {},
      "cell_type": "markdown",
      "metadata": {
        "id": "44eTPTSrWFbH"
      },
      "source": [
        "### Visualization"
      ]
    },
    {
      "cell_type": "code",
      "execution_count": 6,
      "metadata": {
        "colab": {
          "base_uri": "https://localhost:8080/",
          "height": 657
        },
        "id": "H_JGabIFWFbH",
        "outputId": "220bf918-12fd-4fee-b1cb-659f660f7a0b"
      },
      "outputs": [
        {
          "data": {
            "image/png": "[encoded data removed]",
            "text/plain": [
              "<Figure size 3000x1000 with 50 Axes>"
            ]
          },
          "metadata": {},
          "output_type": "display_data"
        }
      ],
      "source": [
        "# Visualize label 0-9 1 sample MNIST picture in 5 tasks.\n",
        "sample = [Data('data', angle=angle_list[index]) for index in range(args.task_number)]\n",
        "\n",
        "plt.figure(figsize=(30, 10))\n",
        "for task in range(5):\n",
        "  target_list = []\n",
        "  cnt = 0\n",
        "  while (len(target_list) < 10):\n",
        "    img, target = sample[task].dataset[cnt]\n",
        "    cnt += 1\n",
        "    if target in target_list:\n",
        "      continue\n",
        "    else:\n",
        "      target_list.append(target)\n",
        "    plt.subplot(5, 10, (task)*10 + target + 1)\n",
        "    curr_img = np.reshape(img, (28, 28))\n",
        "    plt.matshow(curr_img, cmap=plt.get_cmap('gray'), fignum=False)\n",
        "    ax = plt.gca()\n",
        "    ax.axes.xaxis.set_ticks([])\n",
        "    ax.axes.yaxis.set_ticks([])\n",
        "    plt.title(\"task: \" + str(task+1) + \" \" + \"label: \" + str(target), y=1)"
      ]
    },
    {
      "attachments": {},
      "cell_type": "markdown",
      "metadata": {
        "id": "4yn5L2iuWFbH"
      },
      "source": [
        "# Prepare Model"
      ]
    },
    {
      "attachments": {},
      "cell_type": "markdown",
      "metadata": {
        "id": "TyT-BW1zWFbI"
      },
      "source": [
        "### Model Architecture\n",
        "To fair comparison,\n",
        "\n",
        "We fix our model architecture to do this homework.\n",
        "\n",
        "The model architecture consists of 4 layers fully-connected network."
      ]
    },
    {
      "cell_type": "code",
      "execution_count": 7,
      "metadata": {
        "colab": {
          "base_uri": "https://localhost:8080/"
        },
        "id": "PHK0IJofWFbI",
        "outputId": "11535b18-b1c8-4bf2-a78c-2c09dc37866c"
      },
      "outputs": [
        {
          "name": "stdout",
          "output_type": "stream",
          "text": [
            "Model(\n",
            "  (fc1): Linear(in_features=784, out_features=1024, bias=True)\n",
            "  (fc2): Linear(in_features=1024, out_features=512, bias=True)\n",
            "  (fc3): Linear(in_features=512, out_features=256, bias=True)\n",
            "  (fc4): Linear(in_features=256, out_features=10, bias=True)\n",
            "  (relu): ReLU()\n",
            ")\n"
          ]
        }
      ],
      "source": [
        "class Model(nn.Module):\n",
        "  \"\"\"\n",
        "  Model architecture\n",
        "  1*28*28 (input) → 1024 → 512 → 256 → 10\n",
        "  \"\"\"\n",
        "  def __init__(self):\n",
        "    super(Model, self).__init__()\n",
        "    self.fc1 = nn.Linear(1*28*28, 1024)\n",
        "    self.fc2 = nn.Linear(1024, 512)\n",
        "    self.fc3 = nn.Linear(512, 256)\n",
        "    self.fc4 = nn.Linear(256, 10)\n",
        "    self.relu = nn.ReLU()\n",
        "\n",
        "  def forward(self, x):\n",
        "    x = x.view(-1, 1*28*28)\n",
        "    x = self.fc1(x)\n",
        "    x = self.relu(x)\n",
        "    x = self.fc2(x)\n",
        "    x = self.relu(x)\n",
        "    x = self.fc3(x)\n",
        "    x = self.relu(x)\n",
        "    x = self.fc4(x)\n",
        "    return x\n",
        "\n",
        "example = Model()\n",
        "print(example)"
      ]
    },
    {
      "attachments": {},
      "cell_type": "markdown",
      "metadata": {
        "id": "6tTBIThnWFbI"
      },
      "source": [
        "# Train and Evaluate"
      ]
    },
    {
      "attachments": {},
      "cell_type": "markdown",
      "metadata": {
        "id": "cQI3OGfgWFbI"
      },
      "source": [
        "### Train\n",
        "This is our function of training.\n",
        "\n",
        "It can generally be applied in different regularization-based lifelong learning algorithms in this homework."
      ]
    },
    {
      "cell_type": "code",
      "execution_count": 8,
      "metadata": {
        "id": "MQLGpyqnWFbJ"
      },
      "outputs": [],
      "source": [
        "def train(model, optimizer, dataloader, epochs_per_task, lll_object, lll_lambda, test_dataloaders, evaluate, device, log_step=1):\n",
        "  model.train()\n",
        "  model.zero_grad()\n",
        "  objective = nn.CrossEntropyLoss()\n",
        "  acc_per_epoch = []\n",
        "  loss = 1.0\n",
        "  bar = trange(epochs_per_task, leave=False, desc=f\"Epoch 1, Loss: {loss:.7f}\")\n",
        "  for epoch in bar:\n",
        "    for imgs, labels in dataloader:\n",
        "      imgs, labels = imgs.to(device), labels.to(device)\n",
        "      outputs = model(imgs)\n",
        "      loss = objective(outputs, labels)\n",
        "      total_loss = loss\n",
        "      lll_loss = lll_object.penalty(model)\n",
        "      total_loss += lll_lambda * lll_loss\n",
        "      lll_object.update(model)\n",
        "      optimizer.zero_grad()\n",
        "      total_loss.backward()\n",
        "      optimizer.step()\n",
        "\n",
        "      loss = total_loss.item()\n",
        "    acc_average  = []\n",
        "    for test_dataloader in test_dataloaders:\n",
        "      acc_test = evaluate(model, test_dataloader, device)\n",
        "      acc_average.append(acc_test)\n",
        "    average=np.mean(np.array(acc_average))\n",
        "    acc_per_epoch.append(average*100.0)\n",
        "\n",
        "  return model, optimizer, acc_per_epoch"
      ]
    },
    {
      "attachments": {},
      "cell_type": "markdown",
      "metadata": {
        "id": "UN-V_Rq3WFbJ"
      },
      "source": [
        "### Evaluate\n",
        "This is our function of evaluation.\n",
        "\n",
        "It can generally be applied in different regularization-based lifelong learning algorithms in this homework.\n"
      ]
    },
    {
      "cell_type": "code",
      "execution_count": 9,
      "metadata": {
        "id": "AgUG7ZC3WFbJ"
      },
      "outputs": [],
      "source": [
        "def evaluate(model, test_dataloader, device):\n",
        "    model.eval()\n",
        "    correct_cnt = 0\n",
        "    total = 0\n",
        "    for imgs, labels in test_dataloader:\n",
        "        imgs, labels = imgs.to(device), labels.to(device)\n",
        "        outputs = model(imgs)\n",
        "        _, pred_label = torch.max(outputs.data, 1)\n",
        "\n",
        "        correct_cnt += (pred_label == labels.data).sum().item()\n",
        "        total += torch.ones_like(labels.data).sum().item()\n",
        "    return correct_cnt / total"
      ]
    },
    {
      "attachments": {},
      "cell_type": "markdown",
      "metadata": {
        "id": "-6MG7AXmWFbJ"
      },
      "source": [
        "# Methods\n",
        "- Baseline\n",
        "- EWC\n",
        "- SI\n",
        "- MAS\n",
        "- RWalk\n",
        "- SCP"
      ]
    },
    {
      "attachments": {},
      "cell_type": "markdown",
      "metadata": {
        "id": "NqEKECBKWFbK"
      },
      "source": [
        "### Baseline\n",
        "The baseline class will do nothing in the regularization term."
      ]
    },
    {
      "cell_type": "code",
      "execution_count": 10,
      "metadata": {
        "id": "hi0rxYWPWFbK"
      },
      "outputs": [],
      "source": [
        "# Baseline\n",
        "class baseline(object):\n",
        "  \"\"\"\n",
        "  baseline technique: do nothing in regularization term [initialize and all weight is zero]\n",
        "  \"\"\"\n",
        "  def __init__(self, model, dataloader, device):\n",
        "    self.model = model\n",
        "    self.dataloader = dataloader\n",
        "    self.device = device\n",
        "    # extract all parameters in models\n",
        "    self.params = {n: p for n, p in self.model.named_parameters() if p.requires_grad}\n",
        "\n",
        "    # store current parameters\n",
        "    self.p_old = {}\n",
        "\n",
        "    # generate weight matrix\n",
        "    self._precision_matrices = self._calculate_importance()\n",
        "\n",
        "    for n, p in self.params.items():\n",
        "      # keep the old parameter in self.p_old\n",
        "      self.p_old[n] = p.clone().detach()\n",
        "\n",
        "  def _calculate_importance(self):\n",
        "    precision_matrices = {}\n",
        "    # initialize weight matrix（fill zero）\n",
        "    for n, p in self.params.items():\n",
        "      precision_matrices[n] = p.clone().detach().fill_(0)\n",
        "\n",
        "    return precision_matrices\n",
        "\n",
        "  def penalty(self, model: nn.Module):\n",
        "    loss = 0\n",
        "    for n, p in model.named_parameters():\n",
        "      _loss = self._precision_matrices[n] * (p - self.p_old[n]) ** 2\n",
        "      loss += _loss.sum()\n",
        "    return loss\n",
        "\n",
        "  def update(self, model):\n",
        "    # do nothing\n",
        "    return"
      ]
    },
    {
      "cell_type": "code",
      "execution_count": 11,
      "metadata": {
        "colab": {
          "base_uri": "https://localhost:8080/",
          "height": 1000
        },
        "id": "N47ycrp3WFbK",
        "outputId": "0443f83f-19fe-418a-e39c-c3e95ea75bf6"
      },
      "outputs": [
        {
          "name": "stdout",
          "output_type": "stream",
          "text": [
            "RUN BASELINE\n"
          ]
        },
        {
          "name": "stderr",
          "output_type": "stream",
          "text": [
            "Task   6: 100%|██████████| 5/5 [05:56<00:00, 71.30s/it]"
          ]
        },
        {
          "name": "stdout",
          "output_type": "stream",
          "text": [
            "[92.64, 94.45, 95.74000000000001, 96.46000000000001, 96.65, 97.04, 97.58, 97.59, 97.54, 97.89, 95.59500000000001, 95.71499999999999, 95.505, 95.675, 95.515, 95.065, 94.86, 95.365, 95.44500000000001, 95.22500000000001, 91.33333333333334, 90.67, 90.50666666666666, 89.20666666666666, 89.25, 87.07333333333334, 89.02, 87.79, 88.69333333333333, 87.97333333333334, 82.7875, 80.8825, 80.7775, 79.90750000000001, 79.4525, 79.19999999999999, 80.6675, 79.7825, 79.4025, 77.8, 74.702, 73.87599999999999, 74.028, 72.71600000000001, 72.51, 71.48999999999998, 72.11999999999999, 71.246, 70.742, 67.44200000000001]\n",
            "==================================================================================================\n"
          ]
        },
        {
          "name": "stderr",
          "output_type": "stream",
          "text": [
            "\n"
          ]
        }
      ],
      "source": [
        "# Baseline\n",
        "print(\"RUN BASELINE\")\n",
        "model = Model()\n",
        "model = model.to(device)\n",
        "optimizer = torch.optim.Adam(model.parameters(), lr=args.lr)\n",
        "\n",
        "# initialize lifelong learning object (baseline class) without adding any regularization term.\n",
        "lll_object=baseline(model=model, dataloader=None, device=device)\n",
        "lll_lambda=0.0\n",
        "baseline_acc=[]\n",
        "task_bar = trange(len(train_dataloaders),desc=\"Task   1\")\n",
        "\n",
        "# iterate training on each task continually.\n",
        "for train_indexes in task_bar:\n",
        "  # Train each task\n",
        "  model, _, acc_list = train(model, optimizer, train_dataloaders[train_indexes], args.epochs_per_task,\n",
        "                  lll_object, lll_lambda, evaluate=evaluate,device=device, test_dataloaders=test_dataloaders[:train_indexes+1])\n",
        "\n",
        "  # get model weight to baseline class and do nothing!\n",
        "  lll_object=baseline(model=model, dataloader=train_dataloaders[train_indexes],device=device)\n",
        "\n",
        "  # new a optimizer\n",
        "  optimizer = torch.optim.Adam(model.parameters(), lr=args.lr)\n",
        "\n",
        "  # Collect average accuracy in each epoch\n",
        "  baseline_acc.extend(acc_list)\n",
        "\n",
        "  # display the information of the next task.\n",
        "  task_bar.set_description_str(f\"Task  {train_indexes+2:2}\")\n",
        "\n",
        "# average accuracy in each task per epoch!\n",
        "print(baseline_acc)\n",
        "print(\"==================================================================================================\")"
      ]
    },
    {
      "attachments": {},
      "cell_type": "markdown",
      "metadata": {
        "id": "AD1sHoBcWFbK"
      },
      "source": [
        "### EWC\n",
        "\n",
        "Elastic Weight Consolidation\n",
        "\n",
        "The ewc class applied EWC algorithm to calculate the regularization term. The central concept is included in Prof.Hung-yi's lectures. Here we will focus on the algorithm of EWC.\n",
        "\n",
        "In this assignment, we want to let our model learn 10 tasks successively. Here we show a simple example that lets the model learn 2 tasks(task A and task B) successively.\n",
        "\n",
        "In the EWC algorithm, the definition of the loss function is shown below:\n",
        " $$\\mathcal{L}_B = \\mathcal{L}(\\theta) + \\sum_{i} \\frac{\\lambda}{2} F_i (\\theta_{i} - \\theta_{A,i}^{*})^2  $$\n",
        "  \n",
        "Assume we have a neural network with more than two parameters.\n",
        "\n",
        "$F_i$ corresponds to the $i^{th}$ guard in Prof. Hung-yi's lecture. Please do not modify this parameter, because it's important to task A.\n",
        "\n",
        "The definition of $F$ is shown below.\n",
        "$$ F = [ \\nabla \\log(p(y_n | x_n, \\theta_{A}^{*})) \\nabla \\log(p(y_n | x_n, \\theta_{A}^{*}))^T ] $$\n",
        "\n",
        "We only take the diagonal value of the matrix to approximate each parameter's $F_i$.\n",
        "\n",
        "The detail information and derivation are shown in 2.4.1 and 2.4 of [Continual Learning in Neural\n",
        "Networks](https://arxiv.org/pdf/1910.02718.pdf)\n",
        "\n",
        "For You Information: [Elastic Weight Consolidation](https://arxiv.org/pdf/1612.00796.pdf)"
      ]
    },
    {
      "cell_type": "code",
      "execution_count": 12,
      "metadata": {
        "id": "qy-ZmOFuWFbL"
      },
      "outputs": [],
      "source": [
        "# EWC\n",
        "class ewc(object):\n",
        "  \"\"\"\n",
        "  @article{kirkpatrick2017overcoming,\n",
        "      title={Overcoming catastrophic forgetting in neural networks},\n",
        "      author={Kirkpatrick, James and Pascanu, Razvan and Rabinowitz, Neil and Veness, Joel and Desjardins, Guillaume and Rusu, Andrei A and Milan, Kieran and Quan, John and Ramalho, Tiago and Grabska-Barwinska, Agnieszka and others},\n",
        "      journal={Proceedings of the national academy of sciences},\n",
        "      year={2017},\n",
        "      url={https://arxiv.org/abs/1612.00796}\n",
        "  }\n",
        "  \"\"\"\n",
        "  def __init__(self, model, dataloader, device, prev_guards=[None]):\n",
        "    self.model = model\n",
        "    self.dataloader = dataloader\n",
        "    self.device = device\n",
        "    # extract all parameters in models\n",
        "    self.params = {n: p for n, p in self.model.named_parameters() if p.requires_grad}\n",
        "\n",
        "    # initialize parameters\n",
        "    self.p_old = {}\n",
        "    # save previous guards\n",
        "    self.previous_guards_list = prev_guards\n",
        "\n",
        "    # generate Fisher (F) matrix for EWC\n",
        "    self._precision_matrices = self._calculate_importance()\n",
        "\n",
        "    # keep the old parameter in self.p_old\n",
        "    for n, p in self.params.items():\n",
        "      self.p_old[n] = p.clone().detach()\n",
        "\n",
        "  def _calculate_importance(self):\n",
        "    precision_matrices = {}\n",
        "    # initialize Fisher (F) matrix（all fill zero）and add previous guards\n",
        "    for n, p in self.params.items():\n",
        "      precision_matrices[n] = p.clone().detach().fill_(0)\n",
        "      for i in range(len(self.previous_guards_list)):\n",
        "        if self.previous_guards_list[i]:\n",
        "          precision_matrices[n] += self.previous_guards_list[i][n]\n",
        "\n",
        "    self.model.eval()\n",
        "    if self.dataloader is not None:\n",
        "      number_data = len(self.dataloader)\n",
        "      for data in self.dataloader:\n",
        "        self.model.zero_grad()\n",
        "        # get image data\n",
        "        input = data[0].to(self.device)\n",
        "\n",
        "        # image data forward model\n",
        "        output = self.model(input)\n",
        "\n",
        "        # Simply use groud truth label of dataset.\n",
        "        label = data[1].to(self.device)\n",
        "\n",
        "        # generate Fisher(F) matrix for EWC\n",
        "        loss = F.nll_loss(F.log_softmax(output, dim=1), label)\n",
        "        loss.backward()\n",
        "\n",
        "        for n, p in self.model.named_parameters():\n",
        "          # get the gradient of each parameter and square it, then average it in all validation set.\n",
        "          precision_matrices[n].data += p.grad.data ** 2 / number_data\n",
        "\n",
        "      precision_matrices = {n: p for n, p in precision_matrices.items()}\n",
        "    return precision_matrices\n",
        "\n",
        "  def penalty(self, model: nn.Module):\n",
        "    loss = 0\n",
        "    for n, p in model.named_parameters():\n",
        "      # generate the final regularization term by the ewc weight (self._precision_matrices[n]) and the square of weight difference ((p - self.p_old[n]) ** 2).\n",
        "      _loss = self._precision_matrices[n] * (p - self.p_old[n]) ** 2\n",
        "      loss += _loss.sum()\n",
        "    return loss\n",
        "\n",
        "  def update(self, model):\n",
        "    # do nothing\n",
        "    return"
      ]
    },
    {
      "cell_type": "code",
      "execution_count": 13,
      "metadata": {
        "id": "FRIS2se1WFbL"
      },
      "outputs": [
        {
          "name": "stdout",
          "output_type": "stream",
          "text": [
            "RUN EWC\n"
          ]
        },
        {
          "name": "stderr",
          "output_type": "stream",
          "text": [
            "Task   1:   0%|          | 0/5 [00:00<?, ?it/s]"
          ]
        },
        {
          "name": "stderr",
          "output_type": "stream",
          "text": [
            "Task   6: 100%|██████████| 5/5 [06:18<00:00, 75.79s/it]"
          ]
        },
        {
          "name": "stdout",
          "output_type": "stream",
          "text": [
            "[92.25999999999999, 94.58, 95.85000000000001, 96.3, 96.8, 97.13000000000001, 97.37, 97.50999999999999, 97.67, 97.78, 96.22500000000001, 95.66, 95.665, 95.81500000000001, 95.605, 95.50999999999999, 95.67, 95.21, 95.085, 94.93, 91.38000000000001, 89.46666666666667, 88.77333333333333, 88.25666666666666, 87.44999999999999, 87.60666666666667, 87.77666666666667, 87.47666666666666, 86.71000000000001, 86.40333333333334, 82.355, 81.1025, 79.6675, 80.9225, 78.765, 79.25999999999999, 78.9425, 78.8825, 79.6125, 79.21000000000001, 74.872, 73.594, 72.236, 71.22, 71.81599999999999, 71.30799999999999, 72.554, 72.208, 71.114, 69.892]\n",
            "==================================================================================================\n"
          ]
        },
        {
          "name": "stderr",
          "output_type": "stream",
          "text": [
            "\n"
          ]
        }
      ],
      "source": [
        "# EWC\n",
        "print(\"RUN EWC\")\n",
        "model = Model()\n",
        "model = model.to(device)\n",
        "# initialize optimizer\n",
        "optimizer = torch.optim.Adam(model.parameters(), lr=args.lr)\n",
        "\n",
        "# initialize lifelong learning object for EWC\n",
        "lll_object=ewc(model=model, dataloader=None, device=device)\n",
        "\n",
        "# setup the coefficient value of regularization term.\n",
        "lll_lambda=100\n",
        "ewc_acc= []\n",
        "task_bar = trange(len(train_dataloaders),desc=\"Task   1\")\n",
        "prev_guards = []\n",
        "\n",
        "# iterate training on each task continually.\n",
        "for train_indexes in task_bar:\n",
        "  # Train Each Task\n",
        "  model, _, acc_list = train(model, optimizer, train_dataloaders[train_indexes], args.epochs_per_task, lll_object, lll_lambda, evaluate=evaluate,device=device, test_dataloaders=test_dataloaders[:train_indexes+1])\n",
        "\n",
        "  # get model weight and calculate guidance for each weight\n",
        "  prev_guards.append(lll_object._precision_matrices)\n",
        "  lll_object=ewc(model=model, dataloader=train_dataloaders[train_indexes], device=device, prev_guards=prev_guards)\n",
        "\n",
        "  # new a Optimizer\n",
        "  optimizer = torch.optim.Adam(model.parameters(), lr=args.lr)\n",
        "\n",
        "  # collect average accuracy in each epoch\n",
        "  ewc_acc.extend(acc_list)\n",
        "\n",
        "  # Update tqdm displayer\n",
        "  task_bar.set_description_str(f\"Task  {train_indexes+2:2}\")\n",
        "\n",
        "# average accuracy in each task per epoch!\n",
        "print(ewc_acc)\n",
        "print(\"==================================================================================================\")"
      ]
    },
    {
      "attachments": {},
      "cell_type": "markdown",
      "metadata": {
        "id": "7OTZLwxrWFbL"
      },
      "source": [
        "### MAS\n",
        "Memory Aware Synapses\n",
        "\n",
        "The mas class applied MAS algorithm to calculate the regularization term.\n",
        "\n",
        "The concept of MAS is similar to EWC, the only difference is the calculation of the important weight.\n",
        "The details are mentioned in the following blocks.\n",
        "\n",
        "MAS:\n",
        "\n",
        "In MAS, the Loss function is shown below, the model learns task A before it learned task B.\n",
        "\n",
        "$$\\mathcal{L}_B = \\mathcal{L}(\\theta) + \\sum_{i} \\frac{\\lambda}{2} \\Omega_i (\\theta_{i} - \\theta_{A,i}^{*})^2$$\n",
        "\n",
        "Compare with EWC, the $F_i$ in the loss function is replaced with $\\Omega_i$ in the following function.\n",
        "\n",
        "$$\\Omega_i = || \\frac{\\partial \\ell_2^2(M(x_k; \\theta))}{\\partial \\theta_i} || $$\n",
        "\n",
        "$x_k$ is the sample data of the previous task. So the $\\Omega$ is obtained gradients of the squared L2-norm of the learned network output.\n",
        "\n",
        "The method proposed in the paper is the local version by taking squared L2-norm outputs from each layer of the model.\n",
        "\n",
        "Here we only want you to implement the global version by taking outputs from the last layer of the model.\n",
        "\n",
        "For Your Information:\n",
        "[Memory Aware Synapses](https://arxiv.org/pdf/1711.09601.pdf)"
      ]
    },
    {
      "cell_type": "code",
      "execution_count": 28,
      "metadata": {
        "id": "kg5tuGdDWFbM"
      },
      "outputs": [],
      "source": [
        "class mas(object):\n",
        "  \"\"\"\n",
        "  @article{aljundi2017memory,\n",
        "      title={Memory Aware Synapses: Learning what (not) to forget},\n",
        "      author={Aljundi, Rahaf and Babiloni, Francesca and Elhoseiny, Mohamed and Rohrbach, Marcus and Tuytelaars, Tinne},\n",
        "      booktitle={ECCV},\n",
        "      year={2018},\n",
        "      url={https://eccv2018.org/openaccess/content_ECCV_2018/papers/Rahaf_Aljundi_Memory_Aware_Synapses_ECCV_2018_paper.pdf}\n",
        "  }\n",
        "  \"\"\"\n",
        "  def __init__(self, model: nn.Module, dataloader, device, prev_guards=[None]):\n",
        "    self.model = model\n",
        "    self.dataloader = dataloader\n",
        "    # extract all parameters in models\n",
        "    self.params = {n: p for n, p in self.model.named_parameters() if p.requires_grad}\n",
        "\n",
        "    # initialize parameters\n",
        "    self.p_old = {}\n",
        "\n",
        "    self.device = device\n",
        "\n",
        "    # save previous guards\n",
        "    self.previous_guards_list = prev_guards\n",
        "\n",
        "    # generate Omega(Ω) matrix for MAS\n",
        "    self._precision_matrices = self.calculate_importance()\n",
        "\n",
        "    # keep the old parameter in self.p_old\n",
        "    for n, p in self.params.items():\n",
        "      self.p_old[n] = p.clone().detach()\n",
        "\n",
        "  def calculate_importance(self):\n",
        "    precision_matrices = {}\n",
        "    # initialize Omega(Ω) matrix（all filled zero）\n",
        "    for n, p in self.params.items():\n",
        "      precision_matrices[n] = p.clone().detach().fill_(0)\n",
        "      for i in range(len(self.previous_guards_list)):\n",
        "        if self.previous_guards_list[i]:\n",
        "          precision_matrices[n] += self.previous_guards_list[i][n]\n",
        "\n",
        "    self.model.eval()\n",
        "    if self.dataloader is not None:\n",
        "      num_data = len(self.dataloader)\n",
        "      for data in self.dataloader:\n",
        "        self.model.zero_grad()\n",
        "        output = self.model(data[0].to(self.device))\n",
        "\n",
        "        # generate Omega(Ω) matrix for MAS.\n",
        "\n",
        "        loss = output.norm(p=2) ** 2\n",
        "        loss.backward()\n",
        "        \n",
        "        for n, p in self.model.named_parameters():\n",
        "          # get the gradient of each parameter and square it, then average it in all validation set.\n",
        "          precision_matrices[n].data += p.grad.data.abs() / num_data\n",
        "\n",
        "\n",
        "\n",
        "\n",
        "      precision_matrices = {n: p for n, p in precision_matrices.items()}\n",
        "    return precision_matrices\n",
        "\n",
        "  def penalty(self, model: nn.Module):\n",
        "    loss = 0\n",
        "    for n, p in model.named_parameters():\n",
        "      _loss = self._precision_matrices[n] * (p - self.p_old[n]) ** 2\n",
        "      loss += _loss.sum()\n",
        "    return loss\n",
        "\n",
        "  def update(self, model):\n",
        "    # do nothing\n",
        "    return"
      ]
    },
    {
      "cell_type": "code",
      "execution_count": 29,
      "metadata": {
        "id": "p0d1DUBqWFbM"
      },
      "outputs": [
        {
          "name": "stdout",
          "output_type": "stream",
          "text": [
            "RUN MAS\n"
          ]
        },
        {
          "name": "stderr",
          "output_type": "stream",
          "text": [
            "Task   1:   0%|          | 0/5 [00:00<?, ?it/s]"
          ]
        },
        {
          "name": "stderr",
          "output_type": "stream",
          "text": [
            "Task   6: 100%|██████████| 5/5 [06:19<00:00, 75.94s/it]"
          ]
        },
        {
          "name": "stdout",
          "output_type": "stream",
          "text": [
            "[92.65, 94.49, 95.67, 96.26, 96.75, 97.27, 97.39999999999999, 97.6, 97.81, 97.87, 94.73499999999999, 94.9, 95.00999999999999, 95.30499999999999, 95.375, 95.475, 95.455, 95.31, 95.42500000000001, 95.32000000000001, 88.91666666666667, 89.64666666666666, 89.95, 89.75666666666666, 89.82333333333334, 88.73666666666668, 88.25666666666666, 87.96, 87.75333333333334, 87.36333333333333, 81.9275, 81.7575, 81.875, 81.9175, 81.67500000000001, 81.83, 81.78, 81.75, 81.8775, 81.9625, 73.352, 73.22399999999999, 73.296, 73.42999999999999, 73.454, 73.23199999999999, 73.46999999999998, 73.428, 73.30799999999999, 72.532]\n",
            "==================================================================================================\n"
          ]
        },
        {
          "name": "stderr",
          "output_type": "stream",
          "text": [
            "\n"
          ]
        }
      ],
      "source": [
        "# MAS\n",
        "print(\"RUN MAS\")\n",
        "model = Model()\n",
        "model = model.to(device)\n",
        "optimizer = torch.optim.Adam(model.parameters(), lr=args.lr)\n",
        "\n",
        "lll_object=mas(model=model, dataloader=None, device=device)\n",
        "lll_lambda=0.1\n",
        "mas_acc= []\n",
        "task_bar = trange(len(train_dataloaders),desc=\"Task   1\")\n",
        "prev_guards = []\n",
        "\n",
        "for train_indexes in task_bar:\n",
        "  # Train Each Task\n",
        "  model, _, acc_list = train(model, optimizer, train_dataloaders[train_indexes], args.epochs_per_task, lll_object, lll_lambda, evaluate=evaluate,device=device, test_dataloaders=test_dataloaders[:train_indexes+1])\n",
        "\n",
        "  # get model weight and calculate guidance for each weight\n",
        "  prev_guards.append(lll_object._precision_matrices)\n",
        "  lll_object=mas(model=model, dataloader=train_dataloaders[train_indexes], device=device, prev_guards=prev_guards)\n",
        "\n",
        "  # New a Optimizer\n",
        "  optimizer = torch.optim.Adam(model.parameters(), lr=args.lr)\n",
        "\n",
        "  # Collect average accuracy in each epoch\n",
        "  mas_acc.extend(acc_list)\n",
        "  task_bar.set_description_str(f\"Task  {train_indexes+2:2}\")\n",
        "\n",
        "# average accuracy in each task per epoch!\n",
        "print(mas_acc)\n",
        "print(\"==================================================================================================\")"
      ]
    },
    {
      "attachments": {},
      "cell_type": "markdown",
      "metadata": {
        "id": "YXgF4OXtWFbM"
      },
      "source": [
        "### SI\n",
        "The si class applied SI (Synaptic Intelligence) algorithm to calculate the regularization term."
      ]
    },
    {
      "cell_type": "code",
      "execution_count": 16,
      "metadata": {
        "id": "BBb0NwlNWFbM"
      },
      "outputs": [],
      "source": [
        "# SI\n",
        "class si(object):\n",
        "  \"\"\"\n",
        "  @article{kirkpatrick2017overcoming,\n",
        "      title={Overcoming catastrophic forgetting in neural networks},\n",
        "      author={Kirkpatrick, James and Pascanu, Razvan and Rabinowitz, Neil and Veness, Joel and Desjardins, Guillaume and Rusu, Andrei A and Milan, Kieran and Quan, John and Ramalho, Tiago and Grabska-Barwinska, Agnieszka and others},\n",
        "      journal={Proceedings of the national academy of sciences},\n",
        "      year={2017},\n",
        "      url={https://arxiv.org/abs/1612.00796}\n",
        "  }\n",
        "  \"\"\"\n",
        "  def __init__(self, model, dataloader, epsilon, device):\n",
        "    self.model = model\n",
        "    self.dataloader = dataloader\n",
        "    self.device = device\n",
        "    self.epsilon = epsilon\n",
        "    # extract all parameters in models\n",
        "    self.params = {n: p for n, p in self.model.named_parameters() if p.requires_grad}\n",
        "\n",
        "    self._n_p_prev, self._n_omega = self._calculate_importance()\n",
        "    self.W, self.p_old = self._init_()\n",
        "\n",
        "\n",
        "  def _init_(self):\n",
        "    W = {}\n",
        "    p_old = {}\n",
        "    for n, p in self.model.named_parameters():\n",
        "      n = n.replace('.', '__')\n",
        "      if p.requires_grad:\n",
        "        W[n] = p.data.clone().zero_()\n",
        "        p_old[n] = p.data.clone()\n",
        "    return W, p_old\n",
        "\n",
        "  def _calculate_importance(self):\n",
        "    n_p_prev = {}\n",
        "    n_omega = {}\n",
        "\n",
        "    if self.dataloader != None:\n",
        "      for n, p in self.model.named_parameters():\n",
        "        n = n.replace('.', '__')\n",
        "        if p.requires_grad:\n",
        "          # Find/calculate new values for quadratic penalty on parameters\n",
        "          p_prev = getattr(self.model, '{}_SI_prev_task'.format(n))\n",
        "          W = getattr(self.model, '{}_W'.format(n))\n",
        "          p_current = p.detach().clone()\n",
        "          p_change = p_current - p_prev\n",
        "          omega_add = W/(p_change**2 + self.epsilon)\n",
        "          try:\n",
        "            omega = getattr(self.model, '{}_SI_omega'.format(n))\n",
        "          except AttributeError:\n",
        "            omega = p.detach().clone().zero_()\n",
        "          omega_new = omega + omega_add\n",
        "          n_omega[n] = omega_new\n",
        "          n_p_prev[n] = p_current\n",
        "\n",
        "          # Store these new values in the model\n",
        "          self.model.register_buffer('{}_SI_prev_task'.format(n), p_current)\n",
        "          self.model.register_buffer('{}_SI_omega'.format(n), omega_new)\n",
        "\n",
        "    else:\n",
        "      for n, p in self.model.named_parameters():\n",
        "        n = n.replace('.', '__')\n",
        "        if p.requires_grad:\n",
        "          n_p_prev[n] = p.detach().clone()\n",
        "          n_omega[n] = p.detach().clone().zero_()\n",
        "          self.model.register_buffer('{}_SI_prev_task'.format(n), p.detach().clone())\n",
        "    return n_p_prev, n_omega\n",
        "\n",
        "  def penalty(self, model: nn.Module):\n",
        "    loss = 0.0\n",
        "    for n, p in model.named_parameters():\n",
        "      n = n.replace('.', '__')\n",
        "      if p.requires_grad:\n",
        "        prev_values = self._n_p_prev[n]\n",
        "        omega = self._n_omega[n]\n",
        "        _loss = omega * (p - prev_values) ** 2\n",
        "        loss += _loss.sum()\n",
        "    return loss\n",
        "\n",
        "  def update(self, model):\n",
        "    for n, p in model.named_parameters():\n",
        "      n = n.replace('.', '__')\n",
        "      if p.requires_grad:\n",
        "        if p.grad is not None:\n",
        "          self.W[n].add_(-p.grad * (p.detach() - self.p_old[n]))\n",
        "          self.model.register_buffer('{}_W'.format(n), self.W[n])\n",
        "        self.p_old[n] = p.detach().clone()\n",
        "    return"
      ]
    },
    {
      "cell_type": "code",
      "execution_count": 17,
      "metadata": {
        "id": "cdYo8wuPWFbM"
      },
      "outputs": [
        {
          "name": "stdout",
          "output_type": "stream",
          "text": [
            "RUN SI\n"
          ]
        },
        {
          "name": "stderr",
          "output_type": "stream",
          "text": [
            "Task   6: 100%|██████████| 5/5 [06:01<00:00, 72.32s/it]"
          ]
        },
        {
          "name": "stdout",
          "output_type": "stream",
          "text": [
            "[92.73, 94.17, 95.71, 96.32, 96.89, 97.06, 97.11, 97.6, 97.71, 97.87, 95.63999999999999, 95.505, 94.82, 95.645, 95.48, 95.16, 95.67, 96.025, 95.28, 95.085, 90.58666666666667, 89.08, 89.14666666666666, 89.37333333333333, 89.06333333333333, 88.79666666666667, 89.80333333333333, 87.93666666666667, 89.34666666666668, 89.54333333333334, 83.4, 82.46, 83.2975, 81.81, 81.1225, 82.75999999999999, 81.4675, 82.965, 81.23750000000001, 82.28500000000001, 76.698, 74.91399999999999, 74.10399999999998, 74.292, 75.566, 73.256, 73.114, 74.18199999999999, 74.156, 74.366]\n",
            "==================================================================================================\n"
          ]
        },
        {
          "name": "stderr",
          "output_type": "stream",
          "text": [
            "\n"
          ]
        }
      ],
      "source": [
        "# SI\n",
        "print(\"RUN SI\")\n",
        "model = Model()\n",
        "model = model.to(device)\n",
        "optimizer = torch.optim.Adam(model.parameters(), lr=args.lr)\n",
        "\n",
        "lll_object=si(model=model, dataloader=None, epsilon=0.1, device=device)\n",
        "lll_lambda=1\n",
        "si_acc = []\n",
        "task_bar = trange(len(train_dataloaders),desc=\"Task   1\")\n",
        "\n",
        "for train_indexes in task_bar:\n",
        "  # Train Each Task\n",
        "  model, _, acc_list = train(model, optimizer, train_dataloaders[train_indexes], args.epochs_per_task, lll_object, lll_lambda, evaluate=evaluate,device=device, test_dataloaders=test_dataloaders[:train_indexes+1])\n",
        "\n",
        "  # get model weight and calculate guidance for each weight\n",
        "  lll_object=si(model=model, dataloader=train_dataloaders[train_indexes], epsilon=0.1, device=device)\n",
        "\n",
        "  # New a Optimizer\n",
        "  optimizer = torch.optim.Adam(model.parameters(), lr=args.lr)\n",
        "\n",
        "  # Collect average accuracy in each epoch\n",
        "  si_acc.extend(acc_list)\n",
        "  task_bar.set_description_str(f\"Task  {train_indexes+2:2}\")\n",
        "\n",
        "# average accuracy in each task per epoch!\n",
        "print(si_acc)\n",
        "print(\"==================================================================================================\")"
      ]
    },
    {
      "attachments": {},
      "cell_type": "markdown",
      "metadata": {
        "id": "uObzNbO2WFbN"
      },
      "source": [
        "### RWalk\n",
        "\n",
        "#### Remanian Walk for Incremental Learning\n",
        "\n",
        "The rwalk class applied Remanian Walk algorithm to calculate the regularization term.\n",
        "\n",
        "The details are mentioned in the following blocks."
      ]
    },
    {
      "cell_type": "code",
      "execution_count": 18,
      "metadata": {
        "id": "Cbz6IwNpWFbN"
      },
      "outputs": [],
      "source": [
        "class rwalk(object):\n",
        "  def __init__(self, model, dataloader, epsilon, device, prev_guards=[None]):\n",
        "    self.model = model\n",
        "    self.dataloader = dataloader\n",
        "    self.device = device\n",
        "    self.epsilon = epsilon\n",
        "    self.update_ewc_parameter = 0.4\n",
        "    # extract model parameters and store in dictionary\n",
        "    self.params = {n: p for n, p in self.model.named_parameters() if p.requires_grad}\n",
        "\n",
        "    # initialize the guidance matrix\n",
        "    self._means = {}\n",
        "\n",
        "    self.previous_guards_list = prev_guards\n",
        "\n",
        "    # Generate Fisher (F) Information Matrix\n",
        "    self._precision_matrices = self._calculate_importance_ewc()\n",
        "\n",
        "    self._n_p_prev, self._n_omega = self._calculate_importance()\n",
        "    self.W, self.p_old = self._init_()\n",
        "\n",
        "  def _init_(self):\n",
        "    W = {}\n",
        "    p_old = {}\n",
        "    for n, p in self.model.named_parameters():\n",
        "      n = n.replace('.', '__')\n",
        "      if p.requires_grad:\n",
        "        W[n] = p.data.clone().zero_()\n",
        "        p_old[n] = p.data.clone()\n",
        "    return W, p_old\n",
        "\n",
        "  def _calculate_importance(self):\n",
        "    n_p_prev = {}\n",
        "    n_omega = {}\n",
        "\n",
        "    if self.dataloader is not None:\n",
        "      for n, p in self.model.named_parameters():\n",
        "        n = n.replace('.', '__')\n",
        "        if p.requires_grad:\n",
        "          # Find/calculate new values for quadratic penalty on parameters\n",
        "          p_prev = getattr(self.model, '{}_SI_prev_task'.format(n))\n",
        "          W = getattr(self.model, '{}_W'.format(n))\n",
        "          p_current = p.detach().clone()\n",
        "          p_change = p_current - p_prev\n",
        "          omega_add = W / (1.0 / 2.0*self._precision_matrices[n] *p_change**2 + self.epsilon)\n",
        "          try:\n",
        "              omega = getattr(self.model, '{}_SI_omega'.format(n))\n",
        "          except AttributeError:\n",
        "              omega = p.detach().clone().zero_()\n",
        "          omega_new = 0.5 * omega + 0.5 *omega_add\n",
        "          n_omega[n] = omega_new\n",
        "          n_p_prev[n] = p_current\n",
        "\n",
        "          # Store these new values in the model\n",
        "          self.model.register_buffer('{}_SI_prev_task'.format(n), p_current)\n",
        "          self.model.register_buffer('{}_SI_omega'.format(n), omega_new)\n",
        "\n",
        "    else:\n",
        "      for n, p in self.model.named_parameters():\n",
        "        n = n.replace('.', '__')\n",
        "        if p.requires_grad:\n",
        "          n_p_prev[n] = p.detach().clone()\n",
        "          n_omega[n] = p.detach().clone().zero_()\n",
        "          self.model.register_buffer('{}_SI_prev_task'.format(n), p.detach().clone())\n",
        "    return n_p_prev, n_omega\n",
        "\n",
        "  def _calculate_importance_ewc(self):\n",
        "    precision_matrices = {}\n",
        "    for n, p in self.params.items():\n",
        "      # initialize Fisher (F) matrix（all fill zero）\n",
        "      n = n.replace('.', '__')\n",
        "      precision_matrices[n] = p.clone().detach().fill_(0)\n",
        "      for i in range(len(self.previous_guards_list)):\n",
        "        if self.previous_guards_list[i]:\n",
        "          precision_matrices[n] += self.previous_guards_list[i][n]\n",
        "\n",
        "\n",
        "    self.model.eval()\n",
        "    if self.dataloader is not None:\n",
        "      number_data = len(self.dataloader)\n",
        "      for n, p in self.model.named_parameters():\n",
        "        n = n.replace('.', '__')\n",
        "        precision_matrices[n].data *= (1 - self.update_ewc_parameter)\n",
        "      for data in self.dataloader:\n",
        "        self.model.zero_grad()\n",
        "        input = data[0].to(self.device)\n",
        "        output = self.model(input)\n",
        "        label = data[1].to(self.device)\n",
        "\n",
        "        # generate Fisher(F) matrix for RWALK\n",
        "        loss = F.nll_loss(F.log_softmax(output, dim=1), label)\n",
        "        loss.backward()\n",
        "\n",
        "        for n, p in self.model.named_parameters():\n",
        "          n = n.replace('.', '__')\n",
        "          precision_matrices[n].data += self.update_ewc_parameter*p.grad.data ** 2 / number_data\n",
        "\n",
        "      precision_matrices = {n: p for n, p in precision_matrices.items()}\n",
        "    return precision_matrices\n",
        "\n",
        "  def penalty(self, model: nn.Module):\n",
        "    loss = 0.0\n",
        "    for n, p in model.named_parameters():\n",
        "      n = n.replace('.', '__')\n",
        "      if p.requires_grad:\n",
        "        prev_values = self._n_p_prev[n]\n",
        "        omega = self._n_omega[n]\n",
        "        # Generate regularization term  _loss by omega and Fisher Matrix\n",
        "        _loss = (omega + self._precision_matrices[n]) * (p - prev_values) ** 2\n",
        "        loss += _loss.sum()\n",
        "\n",
        "    return loss\n",
        "\n",
        "  def update(self, model):\n",
        "    for n, p in model.named_parameters():\n",
        "      n = n.replace('.', '__')\n",
        "      if p.requires_grad:\n",
        "        if p.grad is not None:\n",
        "          self.W[n].add_(-p.grad * (p.detach() - self.p_old[n]))\n",
        "          self.model.register_buffer('{}_W'.format(n), self.W[n])\n",
        "        self.p_old[n] = p.detach().clone()\n",
        "    return"
      ]
    },
    {
      "cell_type": "code",
      "execution_count": 19,
      "metadata": {
        "id": "QrsbxyDQWFbN"
      },
      "outputs": [
        {
          "name": "stdout",
          "output_type": "stream",
          "text": [
            "RUN Rwalk\n"
          ]
        },
        {
          "name": "stderr",
          "output_type": "stream",
          "text": [
            "Task   1:   0%|          | 0/5 [00:00<?, ?it/s]"
          ]
        },
        {
          "name": "stderr",
          "output_type": "stream",
          "text": [
            "Task   6: 100%|██████████| 5/5 [06:24<00:00, 76.83s/it]"
          ]
        },
        {
          "name": "stdout",
          "output_type": "stream",
          "text": [
            "[92.47, 94.64, 95.59, 96.17999999999999, 96.84, 97.07000000000001, 97.32, 97.43, 97.53, 97.72999999999999, 96.11000000000001, 96.375, 96.00500000000001, 96.435, 96.09, 96.06, 96.475, 96.665, 96.54, 96.49, 92.36000000000001, 91.06666666666668, 92.55666666666667, 92.55999999999999, 93.03, 92.76666666666667, 91.99666666666667, 92.64333333333333, 92.39999999999999, 92.45666666666666, 85.96000000000001, 87.0475, 84.8725, 86.8125, 85.96000000000001, 85.8375, 84.6975, 85.6225, 84.2225, 86.4375, 78.57600000000001, 79.52, 79.67600000000002, 80.118, 80.686, 79.308, 80.874, 80.446, 78.498, 78.06599999999999]\n",
            "==================================================================================================\n"
          ]
        },
        {
          "name": "stderr",
          "output_type": "stream",
          "text": [
            "\n"
          ]
        }
      ],
      "source": [
        "# RWalk\n",
        "print(\"RUN Rwalk\")\n",
        "model = Model()\n",
        "model = model.to(device)\n",
        "optimizer = torch.optim.Adam(model.parameters(), lr=args.lr)\n",
        "\n",
        "lll_object=rwalk(model=model, dataloader=None, epsilon=0.1, device=device)\n",
        "lll_lambda=100\n",
        "rwalk_acc = []\n",
        "task_bar = trange(len(train_dataloaders),desc=\"Task   1\")\n",
        "prev_guards = []\n",
        "\n",
        "for train_indexes in task_bar:\n",
        "  model, _, acc_list = train(model, optimizer, train_dataloaders[train_indexes], args.epochs_per_task, lll_object, lll_lambda, evaluate=evaluate,device=device, test_dataloaders=test_dataloaders[:train_indexes+1])\n",
        "  prev_guards.append(lll_object._precision_matrices)\n",
        "  lll_object=rwalk(model=model, dataloader=train_dataloaders[train_indexes], epsilon=0.1, device=device, prev_guards=prev_guards)\n",
        "  optimizer = torch.optim.Adam(model.parameters(), lr=args.lr)\n",
        "  rwalk_acc.extend(acc_list)\n",
        "  task_bar.set_description_str(f\"Task  {train_indexes+2:2}\")\n",
        "\n",
        "# average accuracy in each task per epoch!\n",
        "print(rwalk_acc)\n",
        "print(\"==================================================================================================\")"
      ]
    },
    {
      "attachments": {},
      "cell_type": "markdown",
      "metadata": {
        "id": "wcOnWF1lWFbg"
      },
      "source": [
        "### SCP\n",
        "Sliced Cramer Preservation\n",
        "\n",
        "Pseudo Code:\n",
        "<img src=\"https://i.ibb.co/QJycmNZ/2021-02-18-21-07.png\" width=\"100%\">"
      ]
    },
    {
      "cell_type": "code",
      "execution_count": 20,
      "metadata": {
        "id": "jg_foxDpWFbg"
      },
      "outputs": [],
      "source": [
        "def sample_spherical(npoints, ndim=3):\n",
        "  vec = np.random.randn(ndim, npoints)\n",
        "  vec /= np.linalg.norm(vec, axis=0)\n",
        "  return torch.from_numpy(vec)\n",
        "\n",
        "class scp(object):\n",
        "  \"\"\"\n",
        "  OPEN REVIEW VERSION:\n",
        "  https://openreview.net/forum?id=BJge3TNKwH\n",
        "  \"\"\"\n",
        "  def __init__(self, model: nn.Module, dataloader, L: int, device, prev_guards=[None]):\n",
        "    self.model = model\n",
        "    self.dataloader = dataloader\n",
        "    self.params = {n: p for n, p in self.model.named_parameters() if p.requires_grad}\n",
        "    self._state_parameters = {}\n",
        "    self.L= L\n",
        "    self.device = device\n",
        "    self.previous_guards_list = prev_guards\n",
        "    self._precision_matrices = self.calculate_importance()\n",
        "    for n, p in self.params.items():\n",
        "      self._state_parameters[n] = p.clone().detach()\n",
        "\n",
        "  def calculate_importance(self):\n",
        "    precision_matrices = {}\n",
        "    for n, p in self.params.items():\n",
        "      precision_matrices[n] = p.clone().detach().fill_(0)\n",
        "      for i in range(len(self.previous_guards_list)):\n",
        "        if self.previous_guards_list[i]:\n",
        "          precision_matrices[n] += self.previous_guards_list[i][n]\n",
        "\n",
        "    self.model.eval()\n",
        "    if self.dataloader is not None:\n",
        "      num_data = len(self.dataloader)\n",
        "      for data in self.dataloader:\n",
        "        self.model.zero_grad()\n",
        "        output = self.model(data[0].to(self.device))\n",
        "\n",
        "        mean_vec = output.mean(dim=0)\n",
        "\n",
        "        L_vectors = sample_spherical(self.L, output.shape[-1])\n",
        "        L_vectors = L_vectors.transpose(1,0).to(self.device).float()\n",
        "\n",
        "        total_scalar = 0\n",
        "        for vec in L_vectors:\n",
        "          scalar=torch.matmul(vec, mean_vec)\n",
        "          total_scalar += scalar\n",
        "        total_scalar /= L_vectors.shape[0]\n",
        "        total_scalar.backward()\n",
        "\n",
        "        for n, p in self.model.named_parameters():\n",
        "          precision_matrices[n].data += p.grad**2 / num_data\n",
        "\n",
        "    precision_matrices = {n: p for n, p in precision_matrices.items()}\n",
        "    return precision_matrices\n",
        "\n",
        "  def penalty(self, model: nn.Module):\n",
        "    loss = 0\n",
        "    for n, p in model.named_parameters():\n",
        "      _loss = self._precision_matrices[n] * (p - self._state_parameters[n]) ** 2\n",
        "      loss += _loss.sum()\n",
        "    return loss\n",
        "\n",
        "  def update(self, model):\n",
        "    # do nothing\n",
        "    return"
      ]
    },
    {
      "cell_type": "code",
      "execution_count": 21,
      "metadata": {
        "id": "3FIQm7F3WFbg"
      },
      "outputs": [
        {
          "name": "stdout",
          "output_type": "stream",
          "text": [
            "RUN SLICE CRAMER PRESERVATION\n"
          ]
        },
        {
          "name": "stderr",
          "output_type": "stream",
          "text": [
            "Task   6: 100%|██████████| 5/5 [06:23<00:00, 76.71s/it]"
          ]
        },
        {
          "name": "stdout",
          "output_type": "stream",
          "text": [
            "[92.46, 94.71000000000001, 95.66, 96.41999999999999, 96.86, 96.94, 97.42, 97.66, 97.72999999999999, 97.95, 95.83999999999999, 95.54, 95.60499999999999, 95.575, 95.255, 95.545, 96.0, 95.74000000000001, 95.075, 96.025, 90.87333333333333, 89.91, 89.86999999999999, 88.35666666666667, 88.61, 89.84333333333332, 88.37333333333332, 88.40333333333334, 88.39666666666666, 88.90333333333334, 81.96, 82.6475, 81.24, 82.06, 81.96249999999999, 80.05, 81.36, 81.43, 80.7425, 81.7925, 77.014, 76.578, 77.316, 76.35799999999999, 76.432, 76.038, 77.14800000000001, 76.154, 76.69399999999999, 75.168]\n",
            "==================================================================================================\n"
          ]
        },
        {
          "name": "stderr",
          "output_type": "stream",
          "text": [
            "\n"
          ]
        }
      ],
      "source": [
        "# SCP\n",
        "print(\"RUN SLICE CRAMER PRESERVATION\")\n",
        "model = Model()\n",
        "model = model.to(device)\n",
        "optimizer = torch.optim.Adam(model.parameters(), lr=args.lr)\n",
        "\n",
        "lll_object=scp(model=model, dataloader=None, L=100, device=device)\n",
        "lll_lambda=100\n",
        "scp_acc= []\n",
        "task_bar = trange(len(train_dataloaders),desc=\"Task   1\")\n",
        "prev_guards = []\n",
        "\n",
        "for train_indexes in task_bar:\n",
        "  model, _, acc_list = train(model, optimizer, train_dataloaders[train_indexes], args.epochs_per_task, lll_object, lll_lambda, evaluate=evaluate,device=device, test_dataloaders=test_dataloaders[:train_indexes+1])\n",
        "  prev_guards.append(lll_object._precision_matrices)\n",
        "  lll_object=scp(model=model, dataloader=train_dataloaders[train_indexes], L=100, device=device, prev_guards=prev_guards)\n",
        "  optimizer = torch.optim.Adam(model.parameters(), lr=args.lr)\n",
        "  scp_acc.extend(acc_list)\n",
        "  task_bar.set_description_str(f\"Task  {train_indexes+2:2}\")\n",
        "\n",
        "# average accuracy in each task per epoch!\n",
        "print(scp_acc)\n",
        "print(\"==================================================================================================\")"
      ]
    },
    {
      "attachments": {},
      "cell_type": "markdown",
      "metadata": {
        "id": "h_BaIfqZWFbg"
      },
      "source": [
        "# Plot function"
      ]
    },
    {
      "cell_type": "code",
      "execution_count": 30,
      "metadata": {
        "id": "WO0fR_drWFbg"
      },
      "outputs": [
        {
          "data": {
            "image/png": "[encoded data removed]",
            "text/plain": [
              "<Figure size 640x480 with 1 Axes>"
            ]
          },
          "metadata": {},
          "output_type": "display_data"
        }
      ],
      "source": [
        "import matplotlib.pyplot as plt\n",
        "def draw_acc(acc_list, label_list):\n",
        "  for acc, label in zip(acc_list, label_list):\n",
        "    plt.plot(acc, marker='o', ls='--', lw=2, markersize=4, label=label)\n",
        "    plt.legend()\n",
        "  plt.savefig('acc_summary.png')\n",
        "  plt.show()\n",
        "\n",
        "acc_list = [baseline_acc, ewc_acc, mas_acc, si_acc, rwalk_acc, scp_acc]\n",
        "label_list = ['baseline', 'EWC', 'MAS', 'SI', 'RWALK', 'SCP']\n",
        "draw_acc(acc_list, label_list)"
      ]
    }
  ],
  "metadata": {
    "colab": {
      "provenance": []
    },
    "kernelspec": {
      "display_name": "Python 3",
      "language": "python",
      "name": "python3"
    },
    "language_info": {
      "codemirror_mode": {
        "name": "ipython",
        "version": 3
      },
      "file_extension": ".py",
      "mimetype": "text/x-python",
      "name": "python",
      "nbconvert_exporter": "python",
      "pygments_lexer": "ipython3",
      "version": "3.11.3"
    }
  },
  "nbformat": 4,
  "nbformat_minor": 0
}
